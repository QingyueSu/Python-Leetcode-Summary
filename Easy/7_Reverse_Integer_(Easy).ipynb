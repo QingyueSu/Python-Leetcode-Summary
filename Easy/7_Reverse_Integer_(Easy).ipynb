{
 "cells": [
  {
   "cell_type": "markdown",
   "metadata": {},
   "source": [
    "### Question 7: Reverse Integer\n",
    "\n",
    "Given a 32-bit signed integer, reverse digits of an integer.\n",
    "\n",
    "**Example 1:**\n",
    "\n",
    "* Input: 123\n",
    "* Output: 321\n",
    "\n",
    "**Example 2:**\n",
    "\n",
    "* Input: -123\n",
    "* Output: -321\n",
    "\n",
    "**Example 3:**\n",
    "\n",
    "* Input: 120\n",
    "* Output: 21\n",
    "\n",
    "**Note:**\n",
    "\n",
    "Assume we are dealing with an environment which could only store integers within the 32-bit signed integer range: $[−2^{31},  2^{31}−1]$. For the purpose of this problem, assume that your function returns 0 when the reversed integer overflows."
   ]
  },
  {
   "cell_type": "markdown",
   "metadata": {},
   "source": [
    "**Explanation：**\n",
    "\n",
    "Here we have to notice the limitation problems. \n",
    "\n",
    "Since we have **0** here, so the right side of limitation has to minus 1, which means that the limitation should be **\"-214783648 ～ 214783637\"**"
   ]
  },
  {
   "cell_type": "markdown",
   "metadata": {},
   "source": [
    "**Sample Code：**\n",
    "\n",
    "class Solution:\n",
    "\n",
    "    def reverse(self, x: int) -> int:"
   ]
  },
  {
   "cell_type": "code",
   "execution_count": 2,
   "metadata": {},
   "outputs": [],
   "source": [
    "class Solution:\n",
    "    def reverse(self, x):\n",
    "        \"\"\"\n",
    "        :type x: int\n",
    "        :rtype: int\n",
    "        \"\"\"\n",
    "        # -214783648 ～ 2147483637\n",
    "        num = 0\n",
    "        \n",
    "        # return the absolute value of a number\n",
    "        a = abs(x)  # x is the number you input\n",
    "        \n",
    "        # Below is to write a \"while loop\" to make the numbers in \"a\" all move to \"num\" one by one.\n",
    "        # x = 123, num = 0, a = 123\n",
    "        #   First iteration: num = 3, a = 12\n",
    "        #   Second iteration: num = 32, a = 1\n",
    "        #   Third iteration: num = 321, a = 0\n",
    "        while(a!=0):\n",
    "            #print('a :',a)\n",
    "            temp = a % 10  # %: Modulus - remainder of the division of left operand by the right，\n",
    "                           # //: Floor division - division that results into whole number adjusted to the left in the number line\n",
    "            #print('temp: ', temp)\n",
    "            num = num * 10 + temp\n",
    "            #print('num :', num)\n",
    "            a = a//10  #  you can also use \"int(a/10)\" directly\n",
    "            \n",
    "        if x > 0 and num <= pow(2,31)-1:\n",
    "            return num\n",
    "        elif x < 0 and num <= pow(2,31):\n",
    "            return -num\n",
    "        else:\n",
    "            return 0"
   ]
  },
  {
   "cell_type": "code",
   "execution_count": 3,
   "metadata": {},
   "outputs": [
    {
     "data": {
      "text/plain": [
       "4321"
      ]
     },
     "execution_count": 3,
     "metadata": {},
     "output_type": "execute_result"
    }
   ],
   "source": [
    "s = Solution()\n",
    "\n",
    "x = 1234\n",
    "s.reverse(x)"
   ]
  },
  {
   "cell_type": "code",
   "execution_count": 4,
   "metadata": {},
   "outputs": [
    {
     "name": "stdout",
     "output_type": "stream",
     "text": [
      "4\n"
     ]
    }
   ],
   "source": [
    "x = 1234\n",
    "a = abs(x)\n",
    "temp = a % 10\n",
    "print(temp)"
   ]
  },
  {
   "cell_type": "code",
   "execution_count": 5,
   "metadata": {},
   "outputs": [
    {
     "name": "stdout",
     "output_type": "stream",
     "text": [
      "123\n",
      "123.4\n",
      "123\n",
      "123\n",
      "124\n"
     ]
    }
   ],
   "source": [
    "print(round(a/10))  # round: nearest integer to x\n",
    "print(round(a/10,1))  # round: any decimal nearest to x\n",
    "\n",
    "print(int(a/10))  # int: the same function as \"math.floor()\"\n",
    "\n",
    "import math\n",
    "print(math.floor(a/10))  # math.floor(): largest integer not greater than x\n",
    "\n",
    "print(math.ceil(a/10))  # math.ceil(): Smallest integer not less than x."
   ]
  },
  {
   "cell_type": "code",
   "execution_count": 6,
   "metadata": {},
   "outputs": [
    {
     "name": "stdout",
     "output_type": "stream",
     "text": [
      "100.0\n",
      "100\n"
     ]
    }
   ],
   "source": [
    "# pow(): built-in function, take its parameter as integer\n",
    "# math.pow(): take its parameter as float\n",
    "\n",
    "import math\n",
    "\n",
    "print(math.pow(10,2))\n",
    "print(pow(10,2))"
   ]
  },
  {
   "cell_type": "code",
   "execution_count": 7,
   "metadata": {},
   "outputs": [
    {
     "data": {
      "text/plain": [
       "2147483647"
      ]
     },
     "execution_count": 7,
     "metadata": {},
     "output_type": "execute_result"
    }
   ],
   "source": [
    "pow(2,31)-1"
   ]
  },
  {
   "cell_type": "code",
   "execution_count": null,
   "metadata": {},
   "outputs": [],
   "source": []
  }
 ],
 "metadata": {
  "kernelspec": {
   "display_name": "Python 3",
   "language": "python",
   "name": "python3"
  },
  "language_info": {
   "codemirror_mode": {
    "name": "ipython",
    "version": 3
   },
   "file_extension": ".py",
   "mimetype": "text/x-python",
   "name": "python",
   "nbconvert_exporter": "python",
   "pygments_lexer": "ipython3",
   "version": "3.8.3"
  }
 },
 "nbformat": 4,
 "nbformat_minor": 2
}
